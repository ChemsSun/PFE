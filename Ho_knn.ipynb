{
  "cells": [
    {
      "cell_type": "markdown",
      "metadata": {
        "id": "view-in-github",
        "colab_type": "text"
      },
      "source": [
        "<a href=\"https://colab.research.google.com/github/ChemsSun/PFE/blob/main/Ho_knn.ipynb\" target=\"_parent\"><img src=\"https://colab.research.google.com/assets/colab-badge.svg\" alt=\"Open In Colab\"/></a>"
      ]
    },
    {
      "cell_type": "code",
      "execution_count": 32,
      "metadata": {
        "id": "h3serHxENuRD"
      },
      "outputs": [],
      "source": [
        "import numpy as np\n",
        "import pandas as pd\n",
        "import seaborn as sns\n",
        "import matplotlib.pyplot as plt\n",
        "from pandas.api.types import is_numeric_dtype\n",
        "import warnings\n",
        "from sklearn import tree\n",
        "from sklearn.model_selection import train_test_split\n",
        "from sklearn.neighbors import KNeighborsClassifier\n",
        "from sklearn.linear_model import LogisticRegression\n",
        "from sklearn.preprocessing import StandardScaler, LabelEncoder\n",
        "from sklearn.tree  import DecisionTreeClassifier\n",
        "from sklearn.ensemble import RandomForestClassifier, AdaBoostClassifier, VotingClassifier, GradientBoostingClassifier\n",
        "from sklearn.svm import SVC, LinearSVC\n",
        "from sklearn.naive_bayes import BernoulliNB\n",
        "from lightgbm import LGBMClassifier\n",
        "from sklearn.feature_selection import RFE\n",
        "import itertools\n",
        "from xgboost import XGBClassifier\n",
        "from tabulate import tabulate\n",
        "import random\n",
        "import matplotlib.pyplot as plt\n",
        "import seaborn as sns\n",
        "import pandas as pd"
      ]
    },
    {
      "cell_type": "code",
      "execution_count": 33,
      "metadata": {
        "id": "y5UZLXAKOA48"
      },
      "outputs": [],
      "source": [
        "train=pd.read_csv('/content/KDDTrain+.csv')\n",
        "test=pd.read_csv('/content/KDDTest+.csv')\n",
        "# train=train.sample(n=100,random_state=42)"
      ]
    },
    {
      "cell_type": "code",
      "execution_count": 34,
      "metadata": {
        "id": "5aKfCeHKODFu"
      },
      "outputs": [],
      "source": [
        "def le(df):\n",
        "    for col in df.columns:\n",
        "        if df[col].dtype == 'object':\n",
        "                label_encoder = LabelEncoder()\n",
        "                df[col] = label_encoder.fit_transform(df[col])\n",
        "\n",
        "le(train)\n",
        "le(test)"
      ]
    },
    {
      "cell_type": "code",
      "execution_count": 35,
      "metadata": {
        "id": "CiuMkMV1OFSI"
      },
      "outputs": [],
      "source": [
        "from sklearn.utils import shuffle\n",
        "# train = shuffle(train, random_state=42)\n",
        "# test = shuffle(test, random_state=42)\n",
        "x_train = train.drop(['class'], axis=1)\n",
        "y_train = train['class']\n",
        "x_test = test.drop(['class'], axis=1)\n",
        "y_test = test['class']\n"
      ]
    },
    {
      "cell_type": "code",
      "execution_count": 36,
      "metadata": {
        "id": "8N52sDbsOG2-"
      },
      "outputs": [],
      "source": [
        "x_train = x_train[['flag', 'src_bytes', 'dst_bytes', 'same_srv_rate', 'dst_host_same_srv_rate']]\n",
        "x_test = x_test[['flag', 'src_bytes', 'dst_bytes', 'same_srv_rate', 'dst_host_same_srv_rate']]"
      ]
    },
    {
      "cell_type": "code",
      "source": [
        "scale=StandardScaler()\n",
        "x_train=scale.fit_transform(x_train)\n",
        "x_test=scale.fit_transform(x_test)"
      ],
      "metadata": {
        "id": "yMy0-nR_wE4B"
      },
      "execution_count": 37,
      "outputs": []
    },
    {
      "cell_type": "code",
      "execution_count": null,
      "metadata": {
        "id": "B4kt5x2IoZWy"
      },
      "outputs": [],
      "source": [
        "# X_train = train.drop(['class'], axis=1)\n",
        "# Y_train = train['class']\n",
        "# X_train = X_train[['flag', 'src_bytes', 'dst_bytes', 'same_srv_rate', 'dst_host_same_srv_rate']]\n",
        "# scale = StandardScaler()\n",
        "# X_train = scale.fit_transform(X_train)\n",
        "# x_train, x_test, y_train, y_test = train_test_split(X_train, Y_train, train_size=0.70,random_state=42)"
      ]
    },
    {
      "cell_type": "code",
      "execution_count": 57,
      "metadata": {
        "id": "A9tkm2Ybhb4H"
      },
      "outputs": [],
      "source": [
        "# x_train_df = pd.DataFrame(x_train)\n",
        "x_test_df = pd.DataFrame(x_test)\n",
        "# y_train_df = pd.DataFrame(y_train)\n",
        "y_test_df = pd.DataFrame(y_test)\n",
        "\n",
        "# x_train_df.to_csv('x_train.csv', index=False)\n",
        "x_test_df.to_csv('x_test.csv', index=False)\n",
        "# y_train_df.to_csv('y_train.csv', index=False)\n",
        "y_test_df.to_csv('y_test.csv', index=False)"
      ]
    },
    {
      "cell_type": "code",
      "execution_count": 38,
      "metadata": {
        "id": "XyxZA9CEOJtd"
      },
      "outputs": [],
      "source": [
        "y_train.reset_index(drop=True, inplace=True)\n",
        "y_test.reset_index(drop=True, inplace=True)"
      ]
    },
    {
      "cell_type": "code",
      "execution_count": 39,
      "metadata": {
        "id": "mdXYcYISON0N"
      },
      "outputs": [],
      "source": [
        "from sklearn.model_selection import train_test_split\n",
        "from sklearn.preprocessing import StandardScaler\n",
        "from collections import Counter\n",
        "import math\n",
        "import csv\n",
        "\n",
        "def accuracy_percentage(y_true, y_pred):\n",
        "    correct = sum(1 for true, pred in zip(y_true, y_pred) if true == pred)\n",
        "    total = len(y_true)\n",
        "    return (correct / total) * 100\n",
        "\n",
        "def count_errors(y_true, y_pred):\n",
        "    errors = 0\n",
        "    for true, pred in zip(y_true, y_pred):\n",
        "        if true != pred:\n",
        "            errors += 1\n",
        "    return errors\n",
        "\n",
        "def calculate_accuracy(correct_predictions, total_predictions):\n",
        "    return correct_predictions / total_predictions if total_predictions else 0\n",
        "\n",
        "class OptunaKNN:\n",
        "    def __init__(self, k):\n",
        "        self.k = k\n",
        "        self.distances = []\n",
        "\n",
        "    def fit(self, X_train, y_train):\n",
        "        self.X_train = X_train\n",
        "        self.y_train = y_train\n",
        "\n",
        "    def predict(self, X):\n",
        "        predictions = [self._predict(x) for x in X]\n",
        "        return predictions\n",
        "\n",
        "    def _predict(self, x):\n",
        "        distances = np.linalg.norm(self.X_train - x, axis=1)\n",
        "        np.save('distances.npy', distances)\n",
        "        k_indices = np.argsort(distances)[:self.k]\n",
        "        np.save('k_indices.npy', k_indices)\n",
        "        k_nearest_labels = [self.y_train[i] for i in k_indices]\n",
        "        np.save('k_nearest_labels.npy', k_nearest_labels)\n",
        "        most_common = Counter(k_nearest_labels).most_common(1)[0][0]\n",
        "        return most_common\n",
        "\n",
        "    # def _predict(self, x):\n",
        "    #     distances = [self.euclidean_distance(x, x_train_i) for x_train_i in self.X_train]\n",
        "    #     self.distances.append(distances)\n",
        "    #     np.save('distances.npy', distances)  # Sauvegarde les distances dans un fichier distances.npy\n",
        "    #     k_indices = np.argsort(distances)[:self.k]\n",
        "    #     np.save('k_indices.npy', k_indices)  # Sauvegarde les indices dans un fichier k_indices.npy\n",
        "    #     k_nearest_labels = [self.y_train[i] for i in k_indices]\n",
        "    #     np.save('k_nearest_labels.npy', k_nearest_labels)  # Sauvegarde les étiquettes dans un fichier k_nearest_labels.npy\n",
        "    #     most_common = Counter(k_nearest_labels).most_common(1)[0][0]\n",
        "    #     return most_common\n",
        "\n",
        "    # def euclidean_distance(self, line1, line2):\n",
        "    #     distance = 0\n",
        "    #     for x in range(len(line1)):\n",
        "    #         if ((type(line1[x]) == str) or (type(line2[x]) == str)):\n",
        "    #             if (line1[x] == line2[x]):\n",
        "    #                 distance = 0\n",
        "    #             else:\n",
        "    #                 distance += 1\n",
        "    #         else:\n",
        "    #             distance += pow((line1[x] - line2[x]), 2)\n",
        "    #     return math.sqrt(distance)"
      ]
    },
    {
      "cell_type": "code",
      "execution_count": 40,
      "metadata": {
        "colab": {
          "base_uri": "https://localhost:8080/"
        },
        "id": "7xJ-awZLrB98",
        "outputId": "8d1c6d44-1c0e-4891-e7fd-364a22d18c86"
      },
      "outputs": [
        {
          "output_type": "stream",
          "name": "stdout",
          "text": [
            "Type of y_test: int64\n",
            "Type of predictions: int64\n",
            "Accuracy: 74.47214336408801\n",
            "Errors: 5755\n",
            "Time elapsed: 309.10406041145325\n",
            "[[8491 4342]\n",
            " [1413 8298]]\n",
            "              precision    recall  f1-score   support\n",
            "\n",
            "           0       0.86      0.66      0.75     12833\n",
            "           1       0.66      0.85      0.74      9711\n",
            "\n",
            "    accuracy                           0.74     22544\n",
            "   macro avg       0.76      0.76      0.74     22544\n",
            "weighted avg       0.77      0.74      0.75     22544\n",
            "\n"
          ]
        }
      ],
      "source": [
        "import time\n",
        "from sklearn.metrics import confusion_matrix, classification_report, f1_score\n",
        "\n",
        "# Meilleur k trouvé\n",
        "y_train = np.array(y_train, dtype=int)\n",
        "y_test = np.array(y_test, dtype=int)\n",
        "\n",
        "# Meilleur k trouvé\n",
        "best_k = 1\n",
        "best_clf = OptunaKNN(k=best_k)\n",
        "\n",
        "# Entraînement du modèle\n",
        "best_clf.fit(x_train, y_train)\n",
        "\n",
        "# Prédictions sur les données de test\n",
        "start_time = time.time()\n",
        "predictions = best_clf.predict(x_test)\n",
        "end_time = time.time()\n",
        "\n",
        "# Ensure predictions are numeric array\n",
        "predictions = np.array(predictions, dtype=int)\n",
        "\n",
        "# Print types for debugging\n",
        "print(f\"Type of y_test: {y_test.dtype}\")\n",
        "print(f\"Type of predictions: {predictions.dtype}\")\n",
        "\n",
        "# Calcul de la précision et des erreurs\n",
        "best_accuracy = accuracy_percentage(y_test, predictions)\n",
        "best_errors = count_errors(y_test, predictions)\n",
        "\n",
        "# Calcul de la matrice de confusion\n",
        "print(\"Accuracy:\", best_accuracy)\n",
        "print(\"Errors:\", best_errors)\n",
        "print(\"Time elapsed:\", end_time - start_time)\n",
        "\n",
        "# Print confusion matrix and classification report\n",
        "print(confusion_matrix(y_test, predictions))\n",
        "print(classification_report(y_test, predictions))"
      ]
    },
    {
      "cell_type": "code",
      "execution_count": null,
      "metadata": {
        "id": "griz-2eJ_guD"
      },
      "outputs": [],
      "source": [
        "import seaborn as sns\n",
        "import matplotlib.pyplot as plt\n",
        "from sklearn.metrics import confusion_matrix, classification_report\n",
        "\n",
        "# Calcul de la matrice de confusion et du rapport de classification\n",
        "conf_matrix = confusion_matrix(y_test, predictions)\n",
        "class_report = classification_report(y_test, predictions, target_names=target_names, output_dict=True)\n",
        "\n",
        "# Tracé de la matrice de confusion avec une palette de couleurs personnalisée\n",
        "plt.figure(figsize=(8, 6))\n",
        "sns.heatmap(conf_matrix, annot=True, fmt=\"d\", cmap=\"Blues\", xticklabels=target_names, yticklabels=target_names)\n",
        "plt.xlabel('Predicted')\n",
        "plt.ylabel('Actual')\n",
        "plt.title('Confusion Matrix')\n",
        "plt.show()\n",
        "\n",
        "# Affichage du rapport de classification\n",
        "class_report_df = pd.DataFrame(class_report).transpose()\n",
        "print(class_report_df)\n"
      ]
    },
    {
      "cell_type": "code",
      "execution_count": 41,
      "metadata": {
        "id": "_iy4cF1POaE-"
      },
      "outputs": [],
      "source": [
        "def adding(clf, x_train, y_train, instance, verification):\n",
        "        # Incorrect predictio\n",
        "        # Add the incorrectly predicted instance to the training data\n",
        "    x_train = np.append(x_train, [instance], axis=0)  # Add instance to features\n",
        "    y_train = np.append(y_train, [verification], axis=0)     # Add correct label to target\n",
        "    clf.fit(x_train, y_train)  # Refit the classifier with the updated training set\n",
        "\n",
        "    return clf, x_train, y_train\n",
        "\n",
        "def remplacement(clf, x_train, y_train, x_test, y_test,nearest_neighbor_idx):\n",
        "\n",
        "        # Replace the nearest neighbor in the training set with the test instance\n",
        "        x_train[nearest_neighbor_idx] = x_test\n",
        "        y_train[nearest_neighbor_idx] = y_test\n",
        "        # Refit the classifier with the updated training set\n",
        "\n",
        "\n",
        "        clf.fit(x_train, y_train)\n",
        "\n",
        "        return clf, x_train, y_train"
      ]
    },
    {
      "cell_type": "code",
      "execution_count": 42,
      "metadata": {
        "id": "C92xfJm8OnPU"
      },
      "outputs": [],
      "source": [
        "def count_predictions(clf,x_test,y_test):\n",
        "  correct=0\n",
        "  errors=0\n",
        "\n",
        "  for instance, verification in zip(x_test, y_test):\n",
        "    prediction = clf.predict([instance])[0]  # Predict label for the instance\n",
        "\n",
        "    # Compare prediction with actual label\n",
        "    if prediction == verification:\n",
        "      correct += 1\n",
        "    else:\n",
        "      errors += 1\n",
        "  return correct,errors\n",
        "\n",
        "def find_nearest_neighbor(clf, x_train, instance):\n",
        "    distances = np.linalg.norm(x_train - instance, axis=1)\n",
        "    nearest_neighbor_idx = np.argmin(distances)\n",
        "    distance = distances[nearest_neighbor_idx]\n",
        "    return nearest_neighbor_idx, distance\n",
        "\n",
        "\n",
        "def calculate_accuracy(correct_predictions, total_predictions):\n",
        "    return correct_predictions / total_predictions\n",
        "\n",
        "def ho_knn1(clf, x_train, y_train, x_test, y_test, threshold,counts):\n",
        "    prediction = clf.predict([x_test])[0]\n",
        "    if prediction == y_test:\n",
        "        return clf, x_train, y_train, \"correct\"\n",
        "    else:\n",
        "        nearest_neighbor_idx, distance = find_nearest_neighbor(clf, x_train, x_test)\n",
        "        if distance < threshold:\n",
        "            clf, x_train, y_train= remplacement(clf, x_train, y_train, x_test, y_test, nearest_neighbor_idx)\n",
        "            counts['replaced'] += 1\n",
        "            return clf, x_train, y_train, \"replaced\"\n",
        "        else:\n",
        "            clf, x_train, y_train= adding(clf, x_train, y_train, x_test, y_test)\n",
        "            counts['added'] += 1\n",
        "            return clf, x_train, y_train,\"added\"\n",
        "\n",
        "\n",
        "\n",
        "def ho_knn2(clf, x_train, y_train, x_test, y_test, threshold,counts):\n",
        "    prediction = clf.predict([x_test])[0]\n",
        "    if prediction == y_test:\n",
        "        return clf, x_train, y_train, \"correct\"\n",
        "    else:\n",
        "        nearest_neighbor_idx, distance = find_nearest_neighbor(clf, x_train, x_test)\n",
        "        if distance > threshold:\n",
        "            clf, x_train, y_train= remplacement(clf, x_train, y_train, x_test, y_test, nearest_neighbor_idx)\n",
        "            counts['replaced'] += 1\n",
        "            return clf, x_train, y_train, \"replaced\"\n",
        "        else:\n",
        "            clf, x_train, y_train= adding(clf, x_train, y_train, x_test, y_test)\n",
        "            counts['added'] += 1\n",
        "            return clf, x_train, y_train,\"added\""
      ]
    },
    {
      "cell_type": "code",
      "source": [
        "x_train = train.drop(['class'], axis=1)\n",
        "y_train = train['class']\n",
        "x_test = test.drop(['class'], axis=1)\n",
        "y_test = test['class']\n",
        "scale=StandardScaler()\n",
        "x_train=scale.fit_transform(x_train)\n",
        "x_test=scale.fit_transform(x_test)"
      ],
      "metadata": {
        "id": "dKS7x_IV5_rE"
      },
      "execution_count": 30,
      "outputs": []
    },
    {
      "cell_type": "code",
      "execution_count": 43,
      "metadata": {
        "colab": {
          "base_uri": "https://localhost:8080/"
        },
        "id": "deCx3jkKSgzc",
        "outputId": "d8c1cc09-4036-4862-812f-7ffffab09b3e"
      },
      "outputs": [
        {
          "output_type": "stream",
          "name": "stdout",
          "text": [
            "Total replacements: 3515\n",
            "Total additions: 372\n",
            "Accuracy: 82.7581618168914%\n",
            "Time taken: 318.04 s\n",
            "ur threshhold is:  0.0445498784733719\n"
          ]
        }
      ],
      "source": [
        "import random\n",
        "import time\n",
        "best_k=1\n",
        "threshold =0.0445498784733719\n",
        "# threshold=random.uniform(0.01227,3.23779)\n",
        "best_clf1 = OptunaKNN(k=best_k)\n",
        "\n",
        "best_clf1.fit(x_train, y_train)\n",
        "\n",
        "counts = {'replaced': 0, 'added': 0}\n",
        "correct_predictions = 0\n",
        "total_predictions = 0\n",
        "correct_counts = []\n",
        "replaced_counts = []\n",
        "accuracies_code2 = []\n",
        "added_counts = []\n",
        "instances_processed = []\n",
        "\n",
        "start_time = time.time()\n",
        "#Strategy 1\n",
        "for instance, actual_label in zip(x_test, y_test):\n",
        "    best_clf1, x_train, y_train, status = ho_knn1(best_clf1, x_train, y_train, instance, actual_label, threshold,counts)\n",
        "    if status == \"correct\":\n",
        "        correct_predictions += 1\n",
        "    total_predictions += 1\n",
        "    # print(f\"Instance processed, status: {status}\")\n",
        "end_time = time.time()\n",
        "\n",
        "# Strategy 2\n",
        "# for instance, actual_label in zip(x_test, y_test):\n",
        "#     best_clf1, x_train, y_train, status = ho_knn2(best_clf1, x_train, y_train, instance, actual_label, threshold,counts)\n",
        "#     if status == \"correct\":\n",
        "#         correct_predictions += 1\n",
        "#     total_predictions += 1\n",
        "# end_time = time.time()\n",
        "\n",
        "\n",
        "print(f\"Total replacements: {counts['replaced']}\")\n",
        "print(f\"Total additions: {counts['added']}\")\n",
        "accuracy_code2 = calculate_accuracy(correct_predictions, total_predictions)\n",
        "accuracies_code2.append(accuracy_code2)\n",
        "\n",
        "print(f\"Accuracy: {accuracy_code2 * 100:}%\")\n",
        "print(f\"Time taken: {end_time - start_time:.2f} s\")\n",
        "print('ur threshhold is: ',threshold)\n"
      ]
    },
    {
      "cell_type": "code",
      "execution_count": 44,
      "metadata": {
        "id": "D0y_6Von-fjM"
      },
      "outputs": [],
      "source": [
        "import pickle"
      ]
    },
    {
      "cell_type": "code",
      "execution_count": 45,
      "metadata": {
        "id": "z_L0r9fEV_p-"
      },
      "outputs": [],
      "source": [
        "pickle.dump(best_clf1, open('hoknn_model.pkl', 'wb'))"
      ]
    },
    {
      "cell_type": "code",
      "execution_count": 46,
      "metadata": {
        "id": "jQ9NxYeCXJkV"
      },
      "outputs": [],
      "source": [
        "model_load=pickle.load(open('hoknn_model.pkl', 'rb'))"
      ]
    },
    {
      "cell_type": "code",
      "execution_count": 61,
      "metadata": {
        "id": "6jUDFAaXuRsg"
      },
      "outputs": [],
      "source": [
        "x_testt=pd.read_csv('/content/x_test.csv')\n",
        "y_testt=pd.read_csv('/content/y_test.csv')"
      ]
    },
    {
      "cell_type": "code",
      "execution_count": 62,
      "metadata": {
        "colab": {
          "base_uri": "https://localhost:8080/",
          "height": 423
        },
        "id": "IeCKLe6quqUC",
        "outputId": "aa5b2462-26f9-4d88-8d3a-690fabecf92d"
      },
      "outputs": [
        {
          "output_type": "execute_result",
          "data": {
            "text/plain": [
              "       0\n",
              "0      0\n",
              "1      0\n",
              "2      1\n",
              "3      0\n",
              "4      0\n",
              "...   ..\n",
              "22539  1\n",
              "22540  1\n",
              "22541  0\n",
              "22542  1\n",
              "22543  0\n",
              "\n",
              "[22544 rows x 1 columns]"
            ],
            "text/html": [
              "\n",
              "  <div id=\"df-9f4f83af-4bd2-44eb-8acc-dbd69403c472\" class=\"colab-df-container\">\n",
              "    <div>\n",
              "<style scoped>\n",
              "    .dataframe tbody tr th:only-of-type {\n",
              "        vertical-align: middle;\n",
              "    }\n",
              "\n",
              "    .dataframe tbody tr th {\n",
              "        vertical-align: top;\n",
              "    }\n",
              "\n",
              "    .dataframe thead th {\n",
              "        text-align: right;\n",
              "    }\n",
              "</style>\n",
              "<table border=\"1\" class=\"dataframe\">\n",
              "  <thead>\n",
              "    <tr style=\"text-align: right;\">\n",
              "      <th></th>\n",
              "      <th>0</th>\n",
              "    </tr>\n",
              "  </thead>\n",
              "  <tbody>\n",
              "    <tr>\n",
              "      <th>0</th>\n",
              "      <td>0</td>\n",
              "    </tr>\n",
              "    <tr>\n",
              "      <th>1</th>\n",
              "      <td>0</td>\n",
              "    </tr>\n",
              "    <tr>\n",
              "      <th>2</th>\n",
              "      <td>1</td>\n",
              "    </tr>\n",
              "    <tr>\n",
              "      <th>3</th>\n",
              "      <td>0</td>\n",
              "    </tr>\n",
              "    <tr>\n",
              "      <th>4</th>\n",
              "      <td>0</td>\n",
              "    </tr>\n",
              "    <tr>\n",
              "      <th>...</th>\n",
              "      <td>...</td>\n",
              "    </tr>\n",
              "    <tr>\n",
              "      <th>22539</th>\n",
              "      <td>1</td>\n",
              "    </tr>\n",
              "    <tr>\n",
              "      <th>22540</th>\n",
              "      <td>1</td>\n",
              "    </tr>\n",
              "    <tr>\n",
              "      <th>22541</th>\n",
              "      <td>0</td>\n",
              "    </tr>\n",
              "    <tr>\n",
              "      <th>22542</th>\n",
              "      <td>1</td>\n",
              "    </tr>\n",
              "    <tr>\n",
              "      <th>22543</th>\n",
              "      <td>0</td>\n",
              "    </tr>\n",
              "  </tbody>\n",
              "</table>\n",
              "<p>22544 rows × 1 columns</p>\n",
              "</div>\n",
              "    <div class=\"colab-df-buttons\">\n",
              "\n",
              "  <div class=\"colab-df-container\">\n",
              "    <button class=\"colab-df-convert\" onclick=\"convertToInteractive('df-9f4f83af-4bd2-44eb-8acc-dbd69403c472')\"\n",
              "            title=\"Convert this dataframe to an interactive table.\"\n",
              "            style=\"display:none;\">\n",
              "\n",
              "  <svg xmlns=\"http://www.w3.org/2000/svg\" height=\"24px\" viewBox=\"0 -960 960 960\">\n",
              "    <path d=\"M120-120v-720h720v720H120Zm60-500h600v-160H180v160Zm220 220h160v-160H400v160Zm0 220h160v-160H400v160ZM180-400h160v-160H180v160Zm440 0h160v-160H620v160ZM180-180h160v-160H180v160Zm440 0h160v-160H620v160Z\"/>\n",
              "  </svg>\n",
              "    </button>\n",
              "\n",
              "  <style>\n",
              "    .colab-df-container {\n",
              "      display:flex;\n",
              "      gap: 12px;\n",
              "    }\n",
              "\n",
              "    .colab-df-convert {\n",
              "      background-color: #E8F0FE;\n",
              "      border: none;\n",
              "      border-radius: 50%;\n",
              "      cursor: pointer;\n",
              "      display: none;\n",
              "      fill: #1967D2;\n",
              "      height: 32px;\n",
              "      padding: 0 0 0 0;\n",
              "      width: 32px;\n",
              "    }\n",
              "\n",
              "    .colab-df-convert:hover {\n",
              "      background-color: #E2EBFA;\n",
              "      box-shadow: 0px 1px 2px rgba(60, 64, 67, 0.3), 0px 1px 3px 1px rgba(60, 64, 67, 0.15);\n",
              "      fill: #174EA6;\n",
              "    }\n",
              "\n",
              "    .colab-df-buttons div {\n",
              "      margin-bottom: 4px;\n",
              "    }\n",
              "\n",
              "    [theme=dark] .colab-df-convert {\n",
              "      background-color: #3B4455;\n",
              "      fill: #D2E3FC;\n",
              "    }\n",
              "\n",
              "    [theme=dark] .colab-df-convert:hover {\n",
              "      background-color: #434B5C;\n",
              "      box-shadow: 0px 1px 3px 1px rgba(0, 0, 0, 0.15);\n",
              "      filter: drop-shadow(0px 1px 2px rgba(0, 0, 0, 0.3));\n",
              "      fill: #FFFFFF;\n",
              "    }\n",
              "  </style>\n",
              "\n",
              "    <script>\n",
              "      const buttonEl =\n",
              "        document.querySelector('#df-9f4f83af-4bd2-44eb-8acc-dbd69403c472 button.colab-df-convert');\n",
              "      buttonEl.style.display =\n",
              "        google.colab.kernel.accessAllowed ? 'block' : 'none';\n",
              "\n",
              "      async function convertToInteractive(key) {\n",
              "        const element = document.querySelector('#df-9f4f83af-4bd2-44eb-8acc-dbd69403c472');\n",
              "        const dataTable =\n",
              "          await google.colab.kernel.invokeFunction('convertToInteractive',\n",
              "                                                    [key], {});\n",
              "        if (!dataTable) return;\n",
              "\n",
              "        const docLinkHtml = 'Like what you see? Visit the ' +\n",
              "          '<a target=\"_blank\" href=https://colab.research.google.com/notebooks/data_table.ipynb>data table notebook</a>'\n",
              "          + ' to learn more about interactive tables.';\n",
              "        element.innerHTML = '';\n",
              "        dataTable['output_type'] = 'display_data';\n",
              "        await google.colab.output.renderOutput(dataTable, element);\n",
              "        const docLink = document.createElement('div');\n",
              "        docLink.innerHTML = docLinkHtml;\n",
              "        element.appendChild(docLink);\n",
              "      }\n",
              "    </script>\n",
              "  </div>\n",
              "\n",
              "\n",
              "<div id=\"df-436305eb-f172-4ea6-8108-08122baa169d\">\n",
              "  <button class=\"colab-df-quickchart\" onclick=\"quickchart('df-436305eb-f172-4ea6-8108-08122baa169d')\"\n",
              "            title=\"Suggest charts\"\n",
              "            style=\"display:none;\">\n",
              "\n",
              "<svg xmlns=\"http://www.w3.org/2000/svg\" height=\"24px\"viewBox=\"0 0 24 24\"\n",
              "     width=\"24px\">\n",
              "    <g>\n",
              "        <path d=\"M19 3H5c-1.1 0-2 .9-2 2v14c0 1.1.9 2 2 2h14c1.1 0 2-.9 2-2V5c0-1.1-.9-2-2-2zM9 17H7v-7h2v7zm4 0h-2V7h2v10zm4 0h-2v-4h2v4z\"/>\n",
              "    </g>\n",
              "</svg>\n",
              "  </button>\n",
              "\n",
              "<style>\n",
              "  .colab-df-quickchart {\n",
              "      --bg-color: #E8F0FE;\n",
              "      --fill-color: #1967D2;\n",
              "      --hover-bg-color: #E2EBFA;\n",
              "      --hover-fill-color: #174EA6;\n",
              "      --disabled-fill-color: #AAA;\n",
              "      --disabled-bg-color: #DDD;\n",
              "  }\n",
              "\n",
              "  [theme=dark] .colab-df-quickchart {\n",
              "      --bg-color: #3B4455;\n",
              "      --fill-color: #D2E3FC;\n",
              "      --hover-bg-color: #434B5C;\n",
              "      --hover-fill-color: #FFFFFF;\n",
              "      --disabled-bg-color: #3B4455;\n",
              "      --disabled-fill-color: #666;\n",
              "  }\n",
              "\n",
              "  .colab-df-quickchart {\n",
              "    background-color: var(--bg-color);\n",
              "    border: none;\n",
              "    border-radius: 50%;\n",
              "    cursor: pointer;\n",
              "    display: none;\n",
              "    fill: var(--fill-color);\n",
              "    height: 32px;\n",
              "    padding: 0;\n",
              "    width: 32px;\n",
              "  }\n",
              "\n",
              "  .colab-df-quickchart:hover {\n",
              "    background-color: var(--hover-bg-color);\n",
              "    box-shadow: 0 1px 2px rgba(60, 64, 67, 0.3), 0 1px 3px 1px rgba(60, 64, 67, 0.15);\n",
              "    fill: var(--button-hover-fill-color);\n",
              "  }\n",
              "\n",
              "  .colab-df-quickchart-complete:disabled,\n",
              "  .colab-df-quickchart-complete:disabled:hover {\n",
              "    background-color: var(--disabled-bg-color);\n",
              "    fill: var(--disabled-fill-color);\n",
              "    box-shadow: none;\n",
              "  }\n",
              "\n",
              "  .colab-df-spinner {\n",
              "    border: 2px solid var(--fill-color);\n",
              "    border-color: transparent;\n",
              "    border-bottom-color: var(--fill-color);\n",
              "    animation:\n",
              "      spin 1s steps(1) infinite;\n",
              "  }\n",
              "\n",
              "  @keyframes spin {\n",
              "    0% {\n",
              "      border-color: transparent;\n",
              "      border-bottom-color: var(--fill-color);\n",
              "      border-left-color: var(--fill-color);\n",
              "    }\n",
              "    20% {\n",
              "      border-color: transparent;\n",
              "      border-left-color: var(--fill-color);\n",
              "      border-top-color: var(--fill-color);\n",
              "    }\n",
              "    30% {\n",
              "      border-color: transparent;\n",
              "      border-left-color: var(--fill-color);\n",
              "      border-top-color: var(--fill-color);\n",
              "      border-right-color: var(--fill-color);\n",
              "    }\n",
              "    40% {\n",
              "      border-color: transparent;\n",
              "      border-right-color: var(--fill-color);\n",
              "      border-top-color: var(--fill-color);\n",
              "    }\n",
              "    60% {\n",
              "      border-color: transparent;\n",
              "      border-right-color: var(--fill-color);\n",
              "    }\n",
              "    80% {\n",
              "      border-color: transparent;\n",
              "      border-right-color: var(--fill-color);\n",
              "      border-bottom-color: var(--fill-color);\n",
              "    }\n",
              "    90% {\n",
              "      border-color: transparent;\n",
              "      border-bottom-color: var(--fill-color);\n",
              "    }\n",
              "  }\n",
              "</style>\n",
              "\n",
              "  <script>\n",
              "    async function quickchart(key) {\n",
              "      const quickchartButtonEl =\n",
              "        document.querySelector('#' + key + ' button');\n",
              "      quickchartButtonEl.disabled = true;  // To prevent multiple clicks.\n",
              "      quickchartButtonEl.classList.add('colab-df-spinner');\n",
              "      try {\n",
              "        const charts = await google.colab.kernel.invokeFunction(\n",
              "            'suggestCharts', [key], {});\n",
              "      } catch (error) {\n",
              "        console.error('Error during call to suggestCharts:', error);\n",
              "      }\n",
              "      quickchartButtonEl.classList.remove('colab-df-spinner');\n",
              "      quickchartButtonEl.classList.add('colab-df-quickchart-complete');\n",
              "    }\n",
              "    (() => {\n",
              "      let quickchartButtonEl =\n",
              "        document.querySelector('#df-436305eb-f172-4ea6-8108-08122baa169d button');\n",
              "      quickchartButtonEl.style.display =\n",
              "        google.colab.kernel.accessAllowed ? 'block' : 'none';\n",
              "    })();\n",
              "  </script>\n",
              "</div>\n",
              "\n",
              "  <div id=\"id_79b45ee1-bd95-4142-ab57-80dad6ba224f\">\n",
              "    <style>\n",
              "      .colab-df-generate {\n",
              "        background-color: #E8F0FE;\n",
              "        border: none;\n",
              "        border-radius: 50%;\n",
              "        cursor: pointer;\n",
              "        display: none;\n",
              "        fill: #1967D2;\n",
              "        height: 32px;\n",
              "        padding: 0 0 0 0;\n",
              "        width: 32px;\n",
              "      }\n",
              "\n",
              "      .colab-df-generate:hover {\n",
              "        background-color: #E2EBFA;\n",
              "        box-shadow: 0px 1px 2px rgba(60, 64, 67, 0.3), 0px 1px 3px 1px rgba(60, 64, 67, 0.15);\n",
              "        fill: #174EA6;\n",
              "      }\n",
              "\n",
              "      [theme=dark] .colab-df-generate {\n",
              "        background-color: #3B4455;\n",
              "        fill: #D2E3FC;\n",
              "      }\n",
              "\n",
              "      [theme=dark] .colab-df-generate:hover {\n",
              "        background-color: #434B5C;\n",
              "        box-shadow: 0px 1px 3px 1px rgba(0, 0, 0, 0.15);\n",
              "        filter: drop-shadow(0px 1px 2px rgba(0, 0, 0, 0.3));\n",
              "        fill: #FFFFFF;\n",
              "      }\n",
              "    </style>\n",
              "    <button class=\"colab-df-generate\" onclick=\"generateWithVariable('y_testt')\"\n",
              "            title=\"Generate code using this dataframe.\"\n",
              "            style=\"display:none;\">\n",
              "\n",
              "  <svg xmlns=\"http://www.w3.org/2000/svg\" height=\"24px\"viewBox=\"0 0 24 24\"\n",
              "       width=\"24px\">\n",
              "    <path d=\"M7,19H8.4L18.45,9,17,7.55,7,17.6ZM5,21V16.75L18.45,3.32a2,2,0,0,1,2.83,0l1.4,1.43a1.91,1.91,0,0,1,.58,1.4,1.91,1.91,0,0,1-.58,1.4L9.25,21ZM18.45,9,17,7.55Zm-12,3A5.31,5.31,0,0,0,4.9,8.1,5.31,5.31,0,0,0,1,6.5,5.31,5.31,0,0,0,4.9,4.9,5.31,5.31,0,0,0,6.5,1,5.31,5.31,0,0,0,8.1,4.9,5.31,5.31,0,0,0,12,6.5,5.46,5.46,0,0,0,6.5,12Z\"/>\n",
              "  </svg>\n",
              "    </button>\n",
              "    <script>\n",
              "      (() => {\n",
              "      const buttonEl =\n",
              "        document.querySelector('#id_79b45ee1-bd95-4142-ab57-80dad6ba224f button.colab-df-generate');\n",
              "      buttonEl.style.display =\n",
              "        google.colab.kernel.accessAllowed ? 'block' : 'none';\n",
              "\n",
              "      buttonEl.onclick = () => {\n",
              "        google.colab.notebook.generateWithVariable('y_testt');\n",
              "      }\n",
              "      })();\n",
              "    </script>\n",
              "  </div>\n",
              "\n",
              "    </div>\n",
              "  </div>\n"
            ],
            "application/vnd.google.colaboratory.intrinsic+json": {
              "type": "dataframe",
              "variable_name": "y_testt",
              "summary": "{\n  \"name\": \"y_testt\",\n  \"rows\": 22544,\n  \"fields\": [\n    {\n      \"column\": \"0\",\n      \"properties\": {\n        \"dtype\": \"number\",\n        \"std\": 0,\n        \"min\": 0,\n        \"max\": 1,\n        \"num_unique_values\": 2,\n        \"samples\": [\n          1,\n          0\n        ],\n        \"semantic_type\": \"\",\n        \"description\": \"\"\n      }\n    }\n  ]\n}"
            }
          },
          "metadata": {},
          "execution_count": 62
        }
      ],
      "source": [
        "y_testt"
      ]
    },
    {
      "cell_type": "code",
      "execution_count": 49,
      "metadata": {
        "colab": {
          "base_uri": "https://localhost:8080/"
        },
        "id": "_B8l1-WUuMji",
        "outputId": "1db68174-6f08-4c63-d383-ccc715a5c4b2"
      },
      "outputs": [
        {
          "output_type": "stream",
          "name": "stdout",
          "text": [
            "[1]\n",
            "normal\n"
          ]
        }
      ],
      "source": [
        "input_data = (0.66225582,0.0054731,-0.09689597,0.62948754,0.00293425)\n",
        "\n",
        "# changing the input_data to numpy array\n",
        "input_data_as_numpy_array = np.asarray(input_data)\n",
        "\n",
        "# reshape the array as we are predicting for one instance\n",
        "input_data_reshaped = input_data_as_numpy_array.reshape(1,-1)\n",
        "\n",
        "prediction = model_load.predict(input_data_reshaped)\n",
        "print(prediction)\n",
        "\n",
        "if (prediction[0] == 0):\n",
        "  print('attaque')\n",
        "else:\n",
        "  print('normal')"
      ]
    },
    {
      "cell_type": "code",
      "execution_count": 50,
      "metadata": {
        "colab": {
          "base_uri": "https://localhost:8080/"
        },
        "id": "pnHf9-7Xu7CO",
        "outputId": "0bd6f8f0-e1be-43bd-d346-9e4a2f927896"
      },
      "outputs": [
        {
          "output_type": "stream",
          "name": "stdout",
          "text": [
            "\u001b[2K     \u001b[90m━━━━━━━━━━━━━━━━━━━━━━━━━━━━━━━━━━━━━━━━\u001b[0m \u001b[32m8.6/8.6 MB\u001b[0m \u001b[31m15.9 MB/s\u001b[0m eta \u001b[36m0:00:00\u001b[0m\n",
            "\u001b[2K     \u001b[90m━━━━━━━━━━━━━━━━━━━━━━━━━━━━━━━━━━━━━━━━\u001b[0m \u001b[32m207.3/207.3 kB\u001b[0m \u001b[31m19.2 MB/s\u001b[0m eta \u001b[36m0:00:00\u001b[0m\n",
            "\u001b[2K     \u001b[90m━━━━━━━━━━━━━━━━━━━━━━━━━━━━━━━━━━━━━━━━\u001b[0m \u001b[32m6.9/6.9 MB\u001b[0m \u001b[31m36.9 MB/s\u001b[0m eta \u001b[36m0:00:00\u001b[0m\n",
            "\u001b[2K     \u001b[90m━━━━━━━━━━━━━━━━━━━━━━━━━━━━━━━━━━━━━━━━\u001b[0m \u001b[32m83.0/83.0 kB\u001b[0m \u001b[31m8.5 MB/s\u001b[0m eta \u001b[36m0:00:00\u001b[0m\n",
            "\u001b[2K     \u001b[90m━━━━━━━━━━━━━━━━━━━━━━━━━━━━━━━━━━━━━━━━\u001b[0m \u001b[32m62.7/62.7 kB\u001b[0m \u001b[31m6.5 MB/s\u001b[0m eta \u001b[36m0:00:00\u001b[0m\n",
            "\u001b[?25h"
          ]
        }
      ],
      "source": [
        "!pip install streamlit -q"
      ]
    },
    {
      "cell_type": "code",
      "execution_count": 64,
      "metadata": {
        "colab": {
          "base_uri": "https://localhost:8080/"
        },
        "id": "aqfEM84e7AnL",
        "outputId": "f2a97b4f-2751-45fc-d8f6-f46625d37ddc"
      },
      "outputs": [
        {
          "output_type": "stream",
          "name": "stdout",
          "text": [
            "35.199.149.145\n"
          ]
        }
      ],
      "source": [
        "!wget -q -O - ipv4.icanhazip.com"
      ]
    },
    {
      "cell_type": "code",
      "execution_count": 65,
      "metadata": {
        "colab": {
          "base_uri": "https://localhost:8080/"
        },
        "id": "vJs6mhMO7JAJ",
        "outputId": "fd4827c1-99ad-4a5e-f985-55d6cbdf86e9"
      },
      "outputs": [
        {
          "output_type": "stream",
          "name": "stdout",
          "text": [
            "\n",
            "Collecting usage statistics. To deactivate, set browser.gatherUsageStats to false.\n",
            "\u001b[0m\n",
            "\u001b[0m\n",
            "\u001b[34m\u001b[1m  You can now view your Streamlit app in your browser.\u001b[0m\n",
            "\u001b[0m\n",
            "\u001b[34m  Local URL: \u001b[0m\u001b[1mhttp://localhost:8501\u001b[0m\n",
            "\u001b[34m  Network URL: \u001b[0m\u001b[1mhttp://172.28.0.12:8501\u001b[0m\n",
            "\u001b[34m  External URL: \u001b[0m\u001b[1mhttp://35.199.149.145:8501\u001b[0m\n",
            "\u001b[0m\n",
            "\u001b[K\u001b[?25hnpx: installed 22 in 3.36s\n",
            "your url is: https://hot-badgers-shave.loca.lt\n",
            "2024-05-31 20:52:57.656 Uncaught app exception\n",
            "Traceback (most recent call last):\n",
            "  File \"/usr/local/lib/python3.10/dist-packages/streamlit/runtime/scriptrunner/script_runner.py\", line 600, in _run_script\n",
            "    exec(code, module.__dict__)\n",
            "  File \"/content/IDS.py\", line 7, in <module>\n",
            "    df=pd.read_csv('/content/x_test.csv')\n",
            "NameError: name 'pd' is not defined\n",
            "[1]\n",
            "[1]\n",
            "[1]\n",
            "[0]\n",
            "2024-05-31 21:00:53.262 Uncaught app exception\n",
            "Traceback (most recent call last):\n",
            "  File \"/usr/local/lib/python3.10/dist-packages/streamlit/runtime/scriptrunner/script_runner.py\", line 600, in _run_script\n",
            "    exec(code, module.__dict__)\n",
            "  File \"/content/IDS.py\", line 14, in <module>\n",
            "    st.write(df_combined)\n",
            "  File \"/usr/local/lib/python3.10/dist-packages/streamlit/runtime/metrics_util.py\", line 397, in wrapped_func\n",
            "    result = non_optional_func(*args, **kwargs)\n",
            "  File \"/usr/local/lib/python3.10/dist-packages/streamlit/elements/write.py\", line 415, in write\n",
            "    self.dg.dataframe(arg)\n",
            "  File \"/usr/local/lib/python3.10/dist-packages/streamlit/runtime/metrics_util.py\", line 397, in wrapped_func\n",
            "    result = non_optional_func(*args, **kwargs)\n",
            "  File \"/usr/local/lib/python3.10/dist-packages/streamlit/elements/arrow.py\", line 534, in dataframe\n",
            "    proto.data = type_util.data_frame_to_bytes(data_df)\n",
            "  File \"/usr/local/lib/python3.10/dist-packages/streamlit/type_util.py\", line 1084, in data_frame_to_bytes\n",
            "    table = pa.Table.from_pandas(df)\n",
            "  File \"pyarrow/table.pxi\", line 3869, in pyarrow.lib.Table.from_pandas\n",
            "  File \"/usr/local/lib/python3.10/dist-packages/pyarrow/pandas_compat.py\", line 572, in dataframe_to_arrays\n",
            "    convert_fields) = _get_columns_to_convert(df, schema, preserve_index,\n",
            "  File \"/usr/local/lib/python3.10/dist-packages/pyarrow/pandas_compat.py\", line 354, in _get_columns_to_convert\n",
            "    raise ValueError(\n",
            "ValueError: Duplicate column names found: ['0', '1', '2', '3', '4', '0']\n",
            "2024-05-31 21:03:46.471 Uncaught app exception\n",
            "Traceback (most recent call last):\n",
            "  File \"/usr/local/lib/python3.10/dist-packages/streamlit/runtime/scriptrunner/script_runner.py\", line 600, in _run_script\n",
            "    exec(code, module.__dict__)\n",
            "  File \"/content/IDS.py\", line 16, in <module>\n",
            "    st.write(df_combined)\n",
            "  File \"/usr/local/lib/python3.10/dist-packages/streamlit/runtime/metrics_util.py\", line 397, in wrapped_func\n",
            "    result = non_optional_func(*args, **kwargs)\n",
            "  File \"/usr/local/lib/python3.10/dist-packages/streamlit/elements/write.py\", line 415, in write\n",
            "    self.dg.dataframe(arg)\n",
            "  File \"/usr/local/lib/python3.10/dist-packages/streamlit/runtime/metrics_util.py\", line 397, in wrapped_func\n",
            "    result = non_optional_func(*args, **kwargs)\n",
            "  File \"/usr/local/lib/python3.10/dist-packages/streamlit/elements/arrow.py\", line 534, in dataframe\n",
            "    proto.data = type_util.data_frame_to_bytes(data_df)\n",
            "  File \"/usr/local/lib/python3.10/dist-packages/streamlit/type_util.py\", line 1084, in data_frame_to_bytes\n",
            "    table = pa.Table.from_pandas(df)\n",
            "  File \"pyarrow/table.pxi\", line 3869, in pyarrow.lib.Table.from_pandas\n",
            "  File \"/usr/local/lib/python3.10/dist-packages/pyarrow/pandas_compat.py\", line 572, in dataframe_to_arrays\n",
            "    convert_fields) = _get_columns_to_convert(df, schema, preserve_index,\n",
            "  File \"/usr/local/lib/python3.10/dist-packages/pyarrow/pandas_compat.py\", line 354, in _get_columns_to_convert\n",
            "    raise ValueError(\n",
            "ValueError: Duplicate column names found: ['0', '1', '2', '3', '4', '0']\n",
            "[1]\n",
            "[0]\n",
            "[1]\n",
            "[0]\n",
            "[0]\n",
            "[1]\n",
            "[0]\n",
            "[1]\n",
            "[0]\n",
            "[1]\n",
            "[0]\n",
            "\u001b[34m  Stopping...\u001b[0m\n",
            "^C\n"
          ]
        }
      ],
      "source": [
        "! streamlit run IDS.py & npx localtunnel --port 8501"
      ]
    },
    {
      "cell_type": "code",
      "execution_count": null,
      "metadata": {
        "id": "5nXAiwo77Vpw"
      },
      "outputs": [],
      "source": []
    }
  ],
  "metadata": {
    "colab": {
      "provenance": [],
      "authorship_tag": "ABX9TyOh3EhTfqkgo3b+xiE5AM76",
      "include_colab_link": true
    },
    "kernelspec": {
      "display_name": "Python 3",
      "name": "python3"
    },
    "language_info": {
      "name": "python"
    }
  },
  "nbformat": 4,
  "nbformat_minor": 0
}